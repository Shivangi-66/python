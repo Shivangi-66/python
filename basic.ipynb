{
 "cells": [
  {
   "cell_type": "code",
   "execution_count": null,
   "id": "d05dc60d-0dde-4650-b800-6e67859eb77f",
   "metadata": {},
   "outputs": [],
   "source": [
    "\n"
   ]
  },
  {
   "cell_type": "code",
   "execution_count": 8,
   "id": "9904e32f-6656-4b5a-81e6-13ca352ab02a",
   "metadata": {},
   "outputs": [
    {
     "name": "stdin",
     "output_type": "stream",
     "text": [
      "Enter any integer value- 145\n"
     ]
    },
    {
     "name": "stdout",
     "output_type": "stream",
     "text": [
      "3 is not a strong number\n"
     ]
    }
   ],
   "source": [
    "num=int(input(\"Enter any integer value-\"))\n",
    "\n",
    "temp=sum\n",
    "sum=0\n",
    "while(num!=0):\n",
    "    digit=num%10\n",
    "    fact=1\n",
    "    for i in range(1,digit+1):\n",
    "        fact=fact*i\n",
    "    sum=sum+fact\n",
    "    num=num//10\n",
    "if(sum==temp):\n",
    "    print(f\"{temp} is a strong number\")\n",
    "else:\n",
    "    print(f\"{temp} is not a strong number\")"
   ]
  },
  {
   "cell_type": "code",
   "execution_count": null,
   "id": "5d3aee88-2ae3-4aee-a223-dd1e1aba1263",
   "metadata": {},
   "outputs": [],
   "source": []
  }
 ],
 "metadata": {
  "kernelspec": {
   "display_name": "Python 3 (ipykernel)",
   "language": "python",
   "name": "python3"
  },
  "language_info": {
   "codemirror_mode": {
    "name": "ipython",
    "version": 3
   },
   "file_extension": ".py",
   "mimetype": "text/x-python",
   "name": "python",
   "nbconvert_exporter": "python",
   "pygments_lexer": "ipython3",
   "version": "3.11.7"
  }
 },
 "nbformat": 4,
 "nbformat_minor": 5
}
