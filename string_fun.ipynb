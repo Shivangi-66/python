{
 "cells": [
  {
   "cell_type": "code",
   "execution_count": 3,
   "id": "06b3f876-3f27-4853-949e-6a3b6cb9800f",
   "metadata": {},
   "outputs": [
    {
     "name": "stdout",
     "output_type": "stream",
     "text": [
      "shivi\n",
      "shivangi bhosle from pune \n"
     ]
    }
   ],
   "source": [
    "a='shivi'\n",
    "b=\"shivangi bhosle from pune \"\n",
    "print(a)\n",
    "print(b)"
   ]
  },
  {
   "cell_type": "code",
   "execution_count": 5,
   "id": "30b7676c-9aff-48ac-92ad-c5d50972ab92",
   "metadata": {},
   "outputs": [
    {
     "name": "stdout",
     "output_type": "stream",
     "text": [
      "shivangi\tpune\n",
      "adhjgdah\n",
      "fygsjdh\n"
     ]
    }
   ],
   "source": [
    "c='shivangi\\tpune'  #\\t-tab\n",
    "d='adhjgdah\\nfygsjdh'  #\\n- new line\n",
    "print(c)\n",
    "print(d)"
   ]
  },
  {
   "cell_type": "code",
   "execution_count": 8,
   "id": "74896297-e37d-49b2-a323-cc12a3436318",
   "metadata": {},
   "outputs": [
    {
     "name": "stdout",
     "output_type": "stream",
     "text": [
      "Now I'm ready to learn strings!\n",
      "GAhgs\n",
      "this is \n",
      "a multiline\n",
      "code\n"
     ]
    }
   ],
   "source": [
    "a=\"Now I'm ready to learn strings!\"\n",
    "print(a)\n",
    "\n",
    "b='''GAhgs'''\n",
    "print(b)\n",
    "\n",
    "c='''this is \n",
    "a multiline\n",
    "code'''\n",
    "print(c)"
   ]
  },
  {
   "cell_type": "code",
   "execution_count": 10,
   "id": "e0ce55ad-b8ff-4b9c-8063-2f82a5e3abb8",
   "metadata": {},
   "outputs": [
    {
     "name": "stdout",
     "output_type": "stream",
     "text": [
      "20\n",
      "26\n",
      "26\n"
     ]
    }
   ],
   "source": [
    "print(len('this is len function'))\n",
    "\n",
    "a='this is python and jupyter'\n",
    "print(len(a))\n",
    "\n",
    "char_count=len(a)\n",
    "print(char_count)"
   ]
  },
  {
   "cell_type": "code",
   "execution_count": 13,
   "id": "4cd7d801-1c19-4525-97e5-217b49bdac81",
   "metadata": {},
   "outputs": [
    {
     "name": "stdout",
     "output_type": "stream",
     "text": [
      "this is my file path \n",
      "ame\test\n",
      "ew.txt\n",
      "this is my file path \\name\\test\\new.txt\n"
     ]
    }
   ],
   "source": [
    "# raw text\n",
    "print('this is my file path \\name\\test\\new.txt')\n",
    "\n",
    "print(r'this is my file path \\name\\test\\new.txt')"
   ]
  },
  {
   "cell_type": "code",
   "execution_count": 18,
   "id": "fe3e66a7-6efd-404a-bbcd-948902a4c176",
   "metadata": {},
   "outputs": [
    {
     "name": "stdout",
     "output_type": "stream",
     "text": [
      "23\n",
      "s\n",
      "e\n",
      "i\n"
     ]
    }
   ],
   "source": [
    "s='this is string indexing'\n",
    "print(len(s))\n",
    "print(s[6])\n",
    "print(s[-5])\n",
    "print(s[len(s)//2]) ---------------------------------------------------"
   ]
  },
  {
   "cell_type": "code",
   "execution_count": 24,
   "id": "1df4ce86-a7e3-4c95-b041-d37740c102e7",
   "metadata": {},
   "outputs": [
    {
     "name": "stdout",
     "output_type": "stream",
     "text": [
      "gayatri\n",
      "NoneType\n",
      "nohtyp olleH\n"
     ]
    }
   ],
   "source": [
    "s='Hello python'\n",
    "a=5\n",
    "b=a\n",
    "c=print('gayatri')\n",
    "print(type(c).__name__)\n",
    "r=s[::-1]\n",
    "print(r)\n",
    "\n"
   ]
  },
  {
   "cell_type": "code",
   "execution_count": 31,
   "id": "393013e3-ce4e-4516-b5e7-100fdccfd9cd",
   "metadata": {},
   "outputs": [
    {
     "name": "stdout",
     "output_type": "stream",
     "text": [
      "HELLO PYTHON\n",
      "hello python\n",
      "Hello python\n",
      "              Hello python              \n",
      "--------------Hello python--------------\n",
      "--------Hello python\n",
      "Hello python--------\n"
     ]
    }
   ],
   "source": [
    "# built-in string functions\n",
    "print(s.upper())\n",
    "print(s.lower())\n",
    "print(s.capitalize()) # 1st char is only uprcase\n",
    "\n",
    "print(s.center(40))\n",
    "print(s.center(40,'-'))\n",
    "print(s.rjust(20,'-'))\n",
    "print(s.ljust(20,'-'))"
   ]
  },
  {
   "cell_type": "code",
   "execution_count": 34,
   "id": "b68919e1-c4ae-4eb7-90e8-fb854b0bfae8",
   "metadata": {},
   "outputs": [
    {
     "name": "stdout",
     "output_type": "stream",
     "text": [
      "----------------------------------------\n",
      "            Shivangi Bhosle             \n",
      "----------------------------------------\n"
     ]
    }
   ],
   "source": [
    "width=40\n",
    "name='Shivangi Bhosle'\n",
    "print('-' * width +'\\n' + name.center(width) + '\\n' + '-' * width)"
   ]
  },
  {
   "cell_type": "code",
   "execution_count": null,
   "id": "2cdb94d1-4f74-49c9-8a3c-2533cea63cab",
   "metadata": {},
   "outputs": [],
   "source": [
    "string.count(val,start,end)\n",
    "string.index(val,satrt,end)\n",
    "string.replace(old,new,count)\n",
    "string.strip(char)\n",
    "string.rstrip()\n",
    "string.lstrip()\n"
   ]
  },
  {
   "cell_type": "code",
   "execution_count": 35,
   "id": "7f143235-b55b-4b62-a45f-fb6703ca22d3",
   "metadata": {},
   "outputs": [
    {
     "name": "stdout",
     "output_type": "stream",
     "text": [
      "False\n"
     ]
    }
   ],
   "source": [
    "print(s.islower())"
   ]
  },
  {
   "cell_type": "code",
   "execution_count": 40,
   "id": "4a321c61-2c92-471e-93f9-13096acc4952",
   "metadata": {},
   "outputs": [
    {
     "name": "stdin",
     "output_type": "stream",
     "text": [
      "enter your name- abcdef\n"
     ]
    },
    {
     "name": "stdout",
     "output_type": "stream",
     "text": [
      "6\n"
     ]
    }
   ],
   "source": [
    "s=input('enter your name-')\n",
    "count=0\n",
    "for i in s:\n",
    "    if i.isalpha():\n",
    "        count+=1\n",
    "\n",
    "print(count)"
   ]
  },
  {
   "cell_type": "code",
   "execution_count": null,
   "id": "1f56ad30-506f-49a7-aa65-ca62fd1e4e90",
   "metadata": {},
   "outputs": [],
   "source": []
  }
 ],
 "metadata": {
  "kernelspec": {
   "display_name": "Python 3 (ipykernel)",
   "language": "python",
   "name": "python3"
  },
  "language_info": {
   "codemirror_mode": {
    "name": "ipython",
    "version": 3
   },
   "file_extension": ".py",
   "mimetype": "text/x-python",
   "name": "python",
   "nbconvert_exporter": "python",
   "pygments_lexer": "ipython3",
   "version": "3.11.7"
  }
 },
 "nbformat": 4,
 "nbformat_minor": 5
}
