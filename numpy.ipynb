{
 "cells": [
  {
   "cell_type": "code",
   "execution_count": 2,
   "id": "01fc1597-4210-486d-98f1-0ca50a3a9045",
   "metadata": {},
   "outputs": [
    {
     "name": "stdout",
     "output_type": "stream",
     "text": [
      "[[10 20]\n",
      " [40 30]]\n",
      "<class 'numpy.ndarray'>\n"
     ]
    }
   ],
   "source": [
    "import numpy as np\n",
    "arr=np.array([[10,20],[40,30]]) #this represents multi-dimensional array\n",
    "print(arr)\n",
    "print(type(arr))\n",
    "# since the output is not a comma separated value hence it is an array"
   ]
  },
  {
   "cell_type": "code",
   "execution_count": 8,
   "id": "c8de2988-2f18-4fb2-8fe7-5efbcf335d37",
   "metadata": {},
   "outputs": [
    {
     "name": "stdout",
     "output_type": "stream",
     "text": [
      "[10 20 30]\n",
      "[10 20 30 60]\n",
      "[20 30 60 50]\n",
      "[10 20 30 60 50]\n"
     ]
    }
   ],
   "source": [
    "#slicing in array\n",
    "arr1=np.array([10,20,30,60,50])\n",
    "print(arr1[0:3])\n",
    "print(arr1[:4])\n",
    "print(arr1[1:])\n",
    "print(arr1[:])"
   ]
  },
  {
   "cell_type": "code",
   "execution_count": 19,
   "id": "346bbb57-6ad4-4d14-9278-47533f558bd6",
   "metadata": {},
   "outputs": [
    {
     "name": "stdout",
     "output_type": "stream",
     "text": [
      "[[10 20 30]\n",
      " [50 60 70]]\n",
      "[20 30]\n",
      "[50 60 70]\n"
     ]
    }
   ],
   "source": [
    "#slicing in multi-dimensional array\n",
    "arr2=np.array([[10,20,30,40],[50,60,70,80]])\n",
    "print(arr2[0:2,0:3])\n",
    "print(arr2[0,1:3]) # this 0 represents the first [] array which is at 0th position\n",
    "print(arr2[1,0:3]) # represents second [array] which is at 1st position\n"
   ]
  },
  {
   "cell_type": "code",
   "execution_count": 29,
   "id": "744102d0-5cce-40c0-94f1-61c3a13082a8",
   "metadata": {},
   "outputs": [
    {
     "name": "stdout",
     "output_type": "stream",
     "text": [
      "(3, 4)\n",
      "12\n",
      "2\n",
      "<class 'numpy.ndarray'>\n",
      "int32\n",
      "3\n",
      "[[ 10.  20.  30.  40.]\n",
      " [ 50.  60.  70.  80.]\n",
      " [101. 102. 103. 104.]]\n"
     ]
    }
   ],
   "source": [
    "# inspecting an array\n",
    "arr2=np.array([[10,20,30,40],[50,60,70,80],[101,102,103,104]])\n",
    "\n",
    "print(np.shape(arr2)) # array dimensions\n",
    "print (np.size(arr2)) # number of array elements\n",
    "print(np.ndim(arr2)) # number of dimensions\n",
    "print(type(arr2))\n",
    "print(arr2.dtype) # datatype of array\n",
    "print(len(arr2)) # length of array\n",
    "print(arr2.astype(float)) # convert array to diff type"
   ]
  },
  {
   "cell_type": "code",
   "execution_count": 38,
   "id": "bb795073-955c-497f-b409-55050d4caf70",
   "metadata": {},
   "outputs": [
    {
     "name": "stdout",
     "output_type": "stream",
     "text": [
      "[[ 60  80]\n",
      " [100 120]]\n",
      "[[ 60  80]\n",
      " [100 120]]\n",
      "[[-40 -40]\n",
      " [-40 -40]]\n",
      "[[-40 -40]\n",
      " [-40 -40]]\n",
      "[[ 500 1200]\n",
      " [2100 3200]]\n",
      "[[ 500 1200]\n",
      " [2100 3200]]\n",
      "[[0.2        0.33333333]\n",
      " [0.42857143 0.5       ]]\n",
      "[[0.2        0.33333333]\n",
      " [0.42857143 0.5       ]]\n"
     ]
    }
   ],
   "source": [
    "# mathematical operations in array\n",
    "arr1=np.array([[10,20],[30,40]])\n",
    "arr2=np.array([[50,60],[70,80]])\n",
    "\n",
    "print(arr1+arr2)\n",
    "print(np.add(arr1,arr2))\n",
    "\n",
    "print(arr1-arr2)\n",
    "print(np.subtract(arr1,arr2))\n",
    "\n",
    "print(arr1*arr2)\n",
    "print(np.multiply(arr1,arr2))\n",
    "\n",
    "print(arr1/arr2)\n",
    "print(np.divide(arr1,arr2))\n"
   ]
  },
  {
   "cell_type": "code",
   "execution_count": 42,
   "id": "152eda31-6c39-4b66-b388-b440a693c2c6",
   "metadata": {},
   "outputs": [
    {
     "name": "stdout",
     "output_type": "stream",
     "text": [
      "[[ 1  8]\n",
      " [27 64]]\n",
      "[ 2.  9.  5. 10.]\n"
     ]
    }
   ],
   "source": [
    "# some other functions\n",
    "arr1=np.array([[1,2],[3,4]])\n",
    "arr2=np.array([3])\n",
    "\n",
    "print(np.power(arr1,arr2))\n",
    "\n",
    "arr3=np.array([4,81,25,100])\n",
    "print(np.sqrt(arr3))"
   ]
  },
  {
   "cell_type": "code",
   "execution_count": 48,
   "id": "89077aeb-bbe4-4183-a33a-3ff5ac0029ee",
   "metadata": {},
   "outputs": [
    {
     "name": "stdout",
     "output_type": "stream",
     "text": [
      "[[10 20]\n",
      " [30 40]\n",
      " [50 60]\n",
      " [70 80]]\n",
      "[[10 20 50 60]\n",
      " [30 40 70 80]]\n",
      "[[10 20]\n",
      " [30 40]\n",
      " [50 60]\n",
      " [70 80]]\n"
     ]
    }
   ],
   "source": [
    "# combining and spliting array\n",
    "arr1=np.array([[10,20],[30,40]])\n",
    "arr2=np.array([[50,60],[70,80]])\n",
    "print(np.concatenate([arr1,arr2]))\n",
    "print(np.hstack([arr1,arr2])) # horizontal concatenation\n",
    "print(np.vstack([arr1,arr2])) # vertical concatenation\n"
   ]
  },
  {
   "cell_type": "code",
   "execution_count": 51,
   "id": "3fa684b9-2f90-41af-8448-fa4674959500",
   "metadata": {},
   "outputs": [
    {
     "name": "stdout",
     "output_type": "stream",
     "text": [
      "[array([10, 20]), array([50, 40]), array([50]), array([90]), array([80])]\n"
     ]
    }
   ],
   "source": [
    "# spliting an array\n",
    "a=np.array([10,20,50,40,50,90,80])\n",
    "b=np.array_split(a,5) # 5 shows the number of array in which u have to divide the given array\n",
    "print(b)"
   ]
  },
  {
   "cell_type": "code",
   "execution_count": 65,
   "id": "4d7a547e-62fc-4e0d-a2dd-75bb2b46c93f",
   "metadata": {},
   "outputs": [
    {
     "name": "stdout",
     "output_type": "stream",
     "text": [
      "[20 50 90 60 10]\n",
      "[ 40  50  60  70 100]\n",
      "[20 50 30 90 60]\n",
      "[ 40  50  60 800 900  70]\n",
      "[20 50 60]\n",
      "[40 50 70]\n"
     ]
    }
   ],
   "source": [
    "# adding and removing elements in arrays\n",
    "arr=np.array([20,50,90,60])\n",
    "arr1=np.array([[40,50],[60,70]])\n",
    "print(np.append(arr,10))\n",
    "print(np.append(arr1,100)) # adding element to 2-d array will convert the arrya into 1-d tahn add it and give o/p in 2-d\n",
    "\n",
    "print(np.insert(arr,2,30)) #(array,index,value)\n",
    "print(np.insert(arr1,3,[800,900]))\n",
    "\n",
    "print(np.delete(arr,2))\n",
    "print(np.delete(arr1,2))"
   ]
  },
  {
   "cell_type": "code",
   "execution_count": 11,
   "id": "1867631e-5836-41b7-820b-ba214272a3fc",
   "metadata": {},
   "outputs": [
    {
     "name": "stdout",
     "output_type": "stream",
     "text": [
      "[3 4 5 6 7 9]\n",
      "[[10 40]\n",
      " [10 20]]\n",
      "(array([4, 5], dtype=int64),)\n",
      "2\n",
      "[20 40]\n",
      "[30 40 50]\n"
     ]
    }
   ],
   "source": [
    "# search,sort and filter array\n",
    "arr=np.array([5,9,7,3,4,6])\n",
    "arr1=np.array([[40,10],[20,10]])\n",
    "print(np.sort(arr))\n",
    "print(np.sort(arr1))\n",
    "\n",
    "s=np.where(arr%2==0) #returns the position value\n",
    "print(s)\n",
    "\n",
    "arr2=np.array([1,2,3,5,9])\n",
    "ss=np.searchsorted(arr2,3) # for using this we need to keep in mind that the array is sorted\n",
    "print(ss)\n",
    "\n",
    "arr3=np.array([20,30,40,50])\n",
    "fa=[True,False,True,False] #used to filter the elements\n",
    "new=arr3[fa]\n",
    "print(new)\n",
    "\n",
    "fa=arr3>26 # or fa=arr3%2==0 etc etc\n",
    "new=arr3[fa]\n",
    "print(new)\n",
    "\n"
   ]
  },
  {
   "cell_type": "code",
   "execution_count": 12,
   "id": "34e49f89-2045-4fb2-91b5-9e04a2a40650",
   "metadata": {},
   "outputs": [
    {
     "name": "stdout",
     "output_type": "stream",
     "text": [
      "34\n",
      "3\n",
      "9\n",
      "6\n",
      "[ 5 14 21 24 28 34]\n",
      "5.666666666666667\n"
     ]
    }
   ],
   "source": [
    "# aggregating functions\n",
    "arr=np.array([5,9,7,3,4,6])\n",
    "\n",
    "print(np.sum(arr))\n",
    "print(np.min(arr))\n",
    "print(np.max(arr))\n",
    "print(np.size(arr))\n",
    "print(np.cumsum(arr))\n",
    "print(np.mean(arr))\n"
   ]
  },
  {
   "cell_type": "code",
   "execution_count": 15,
   "id": "974ea76e-6c8d-40d8-85ac-a98b8e1c0f1c",
   "metadata": {},
   "outputs": [
    {
     "name": "stdout",
     "output_type": "stream",
     "text": [
      "[100 150 199 458 214 170] \n",
      " [10 20 40 60 90 50]\n",
      "\n",
      "15000\n",
      "67200\n"
     ]
    }
   ],
   "source": [
    "a=[100,150,199,458,214,170]\n",
    "b=[10,20,40,60,90,50]\n",
    "\n",
    "price=np.array(a)\n",
    "quantity=np.array(b) \n",
    "print(price,\"\\n\",quantity)\n",
    "print()\n",
    "\n",
    "c=np.cumprod([price,quantity])\n",
    "print(c[1].sum())\n",
    "c=np.cumprod([price,quantity], axis=0)\n",
    " print(c[1].sum())"
   ]
  },
  {
   "cell_type": "code",
   "execution_count": 21,
   "id": "5ebfa889-8ed1-484d-8815-0acc89479dc1",
   "metadata": {},
   "outputs": [
    {
     "name": "stdout",
     "output_type": "stream",
     "text": [
      "212.57142857142858\n",
      "200.0\n",
      "200\n",
      "51.87583291684411\n"
     ]
    }
   ],
   "source": [
    "#statistical function\n",
    "import numpy as np\n",
    "import statistics as stats\n",
    "baked_food=[200,300,150,280,200,170,188]\n",
    "\n",
    "a=np.array(baked_food)\n",
    "print(np.mean(baked_food)) # sum of all the values/number of values\n",
    "print(np.median(baked_food)) # first the array will get sorted and then median value will be taken out\n",
    "print(stats.mode(baked_food)) # for using mode we need to import statistics \n",
    "print(np.std(baked_food)) # standard deviation"
   ]
  },
  {
   "cell_type": "code",
   "execution_count": 24,
   "id": "677bd99f-339a-4a2c-9f0b-3d6377e9001e",
   "metadata": {},
   "outputs": [
    {
     "name": "stdout",
     "output_type": "stream",
     "text": [
      "[[1.         0.52059651]\n",
      " [0.52059651 1.        ]]\n",
      "[[ 1.         -0.66621445]\n",
      " [-0.66621445  1.        ]]\n"
     ]
    }
   ],
   "source": [
    "# corelation and regression\n",
    "# -1 represent inversely proportional relationship\n",
    "# 1 represent propotional reltionship \n",
    "# 0 mean no relationship\n",
    "\n",
    "#positive correlation\n",
    "tobacco_consumption=[30,40,10,50,60]\n",
    "deaths=[100,105,120,112,169]\n",
    "print(np.corrcoef([tobacco_consumption,deaths]))\n",
    "\n",
    "#negative correlation\n",
    "price=[300,100,350,150,200]\n",
    "sales=[10,20,7,17,3]\n",
    "print(np.corrcoef([price,sales]))\n"
   ]
  },
  {
   "cell_type": "code",
   "execution_count": null,
   "id": "280e04f1-da71-4f20-a60a-19d1eb6bc41a",
   "metadata": {},
   "outputs": [],
   "source": []
  }
 ],
 "metadata": {
  "kernelspec": {
   "display_name": "Python 3 (ipykernel)",
   "language": "python",
   "name": "python3"
  },
  "language_info": {
   "codemirror_mode": {
    "name": "ipython",
    "version": 3
   },
   "file_extension": ".py",
   "mimetype": "text/x-python",
   "name": "python",
   "nbconvert_exporter": "python",
   "pygments_lexer": "ipython3",
   "version": "3.11.7"
  }
 },
 "nbformat": 4,
 "nbformat_minor": 5
}
