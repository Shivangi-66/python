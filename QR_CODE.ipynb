{
 "cells": [
  {
   "cell_type": "code",
   "execution_count": null,
   "id": "4de4cf5c-be57-471f-8a73-66248ee1a36a",
   "metadata": {},
   "outputs": [
    {
     "name": "stdin",
     "output_type": "stream",
     "text": [
      "Enter your UPI ID -  shivangibhosle02@okhdfcbank\n"
     ]
    }
   ],
   "source": [
    "import qrcode\n",
    "\n",
    "# Taking UPI ID as input\n",
    "upi_id= input(\"Enter your UPI ID - \")\n",
    "\n",
    "# upi://pay?pa=UPI_ID&pn=NAME&am=Amount&cu=CURRENCY&tn=MESSAGE\n",
    "\n",
    "# defining the payment URL\n",
    "\n",
    "phonepe_url = f'upi://pay?pa=(upi_id)&pn=Recipient%20Name&mc=1234'\n",
    "paytm_url = f'upi://pay?pa=(upi_id)&pn=Recipient%20Name&mc=1234'\n",
    "google_pay_url = f'upi://pay?pa=(upi_id)&pn=Recipient%20Name&mc=1234'\n",
    "\n",
    "# Create QR Codes for each payment app\n",
    "phonepe_qr = qrcode.make(phonepe_url)\n",
    "paytm_qr = qrcode.make(paytm_url)\n",
    "google_pay_qr = qrcode.make(google_pay_url)\n",
    "\n",
    "# Save the QR Code to image file(optional)\n",
    "phonepe_qr.save('phonepe_qr.png')\n",
    "paytm_qr.save('paytm_qr.png')\n",
    "google_pay_qr.save('google_pay_qr.png')\n",
    "\n",
    "# Display the QR Codes(you may need to install pil/pillow library)\n",
    "phonepe_qr.show()\n",
    "paytm_qr.show()\n",
    "google_pay_qr.show()\n",
    "\n",
    "\n"
   ]
  }
 ],
 "metadata": {
  "kernelspec": {
   "display_name": "Python 3 (ipykernel)",
   "language": "python",
   "name": "python3"
  },
  "language_info": {
   "codemirror_mode": {
    "name": "ipython",
    "version": 3
   },
   "file_extension": ".py",
   "mimetype": "text/x-python",
   "name": "python",
   "nbconvert_exporter": "python",
   "pygments_lexer": "ipython3",
   "version": "3.11.7"
  }
 },
 "nbformat": 4,
 "nbformat_minor": 5
}
